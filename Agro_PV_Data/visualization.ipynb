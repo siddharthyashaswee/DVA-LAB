{
 "cells": [
  {
   "cell_type": "code",
   "execution_count": null,
   "id": "ee923f76",
   "metadata": {},
   "outputs": [],
   "source": [
    "import pandas as pd\n",
    "import numpy as np\n",
    "import geopandas as gpd\n",
    "import matplotlib as plt"
   ]
  },
  {
   "cell_type": "code",
   "execution_count": null,
   "id": "ab969182",
   "metadata": {},
   "outputs": [],
   "source": [
    "pd.set_option('display.max_rows', 700)\n",
    "pd.set_option('display.max_columns', 100)"
   ]
  },
  {
   "cell_type": "code",
   "execution_count": null,
   "id": "5bf84669",
   "metadata": {},
   "outputs": [],
   "source": [
    "# set file path as relative path(if doesn't work then use raw string)\n",
    "#path = r'D:\\Main\\RWTH Study\\Data Analytics and Visualization Lab\\pycharm_projects\\DVA-LAB\\Agro_PV_Data\\data\\Stromerzeuger_east_data.csv'\n",
    "path = \"./data/Stromerzeuger_east_data.csv\"\n",
    "df = pd.read_csv(path, delimiter=\";\")\n",
    "df"
   ]
  },
  {
   "cell_type": "code",
   "execution_count": null,
   "id": "27612e8c",
   "metadata": {
    "scrolled": true
   },
   "outputs": [],
   "source": [
    "# find out all categories of operational status\n",
    "df['Betriebs-Status'].unique() \n",
    "#reults translation:\n",
    "#'In operation', 'In planning', 'Finally decommissioned','Temporarily suspended'"
   ]
  },
  {
   "cell_type": "code",
   "execution_count": null,
   "id": "3870d146",
   "metadata": {},
   "outputs": [],
   "source": [
    "#removing columns where everything is NA\n",
    "df.dropna(axis=1, how='all', inplace = True)"
   ]
  },
  {
   "cell_type": "code",
   "execution_count": null,
   "id": "62839b32",
   "metadata": {},
   "outputs": [],
   "source": [
    "#selecting only operational PV\n",
    "opdf= df[df['Betriebs-Status']=='In Betrieb']"
   ]
  },
  {
   "cell_type": "code",
   "execution_count": null,
   "id": "7e0d3dc9",
   "metadata": {},
   "outputs": [],
   "source": [
    "#filter out latitudes which are not NaN\n",
    "latdf= opdf[opdf['Koordinate: Breitengrad (WGS84)'].notnull()]\n",
    "latdf\n",
    "latdf.isnull().sum()\n"
   ]
  },
  {
   "cell_type": "code",
   "execution_count": null,
   "id": "67166568",
   "metadata": {},
   "outputs": [],
   "source": [
    "latdf."
   ]
  }
 ],
 "metadata": {
  "kernelspec": {
   "display_name": "Python 3 (ipykernel)",
   "language": "python",
   "name": "python3"
  },
  "language_info": {
   "codemirror_mode": {
    "name": "ipython",
    "version": 3
   },
   "file_extension": ".py",
   "mimetype": "text/x-python",
   "name": "python",
   "nbconvert_exporter": "python",
   "pygments_lexer": "ipython3",
   "version": "3.10.6"
  }
 },
 "nbformat": 4,
 "nbformat_minor": 5
}
